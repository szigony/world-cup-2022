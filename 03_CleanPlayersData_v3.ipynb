{
 "cells": [
  {
   "cell_type": "code",
   "execution_count": 1,
   "metadata": {},
   "outputs": [],
   "source": [
    "import pandas as pd\n",
    "import numpy as np\n",
    "from bs4 import BeautifulSoup as bs\n",
    "import os, re\n",
    "import math\n",
    "import networkx as nx\n",
    "import warnings\n",
    "warnings.filterwarnings(\"ignore\")"
   ]
  },
  {
   "cell_type": "markdown",
   "metadata": {},
   "source": [
    "### 1. Get countries' players' clean histories"
   ]
  },
  {
   "cell_type": "code",
   "execution_count": 2,
   "metadata": {},
   "outputs": [],
   "source": [
    "player_name = 'Edouard Mendy'\n",
    "with open(f'players_history_raw/{player_name}_raw.txt', encoding='utf-8') as f:\n",
    "    soup = bs(f.read())\n",
    "    \n",
    "def get_market_value(x):\n",
    "    try:\n",
    "        num = float(\"\".join(re.findall(\"[\\d.]+\", str(x))))\n",
    "    except:\n",
    "        num = np.nan\n",
    "    unit = \"\".join(re.findall(\"[a-zA-Z]+\", str(x)))\n",
    "    if unit == \"m\":\n",
    "        num *= 1000000\n",
    "    elif unit == \"k\":\n",
    "        num *= 1000\n",
    "    return num\n",
    "\n"
   ]
  },
  {
   "cell_type": "code",
   "execution_count": 3,
   "metadata": {},
   "outputs": [],
   "source": [
    "def get_transfer_history(player_name: str) -> pd.DataFrame:\n",
    "    \"\"\"\n",
    "        Reads in the raw player files and parses their transfer history.\n",
    "    \"\"\"\n",
    "    columns = {\n",
    "        'season': 'tm-player-transfer-history-grid__season',\n",
    "        'date': 'tm-player-transfer-history-grid__date',\n",
    "        'old_team': 'tm-player-transfer-history-grid__old-club',\n",
    "        'new_team': 'tm-player-transfer-history-grid__new-club',\n",
    "        'market_value': 'tm-player-transfer-history-grid__market-value',\n",
    "        'transfer_fee': 'tm-player-transfer-history-grid__fee'\n",
    "    }\n",
    "    \n",
    "    with open(f'players_history_raw/{player_name}_raw.txt', encoding='utf-8') as f:\n",
    "        soup = bs(f.read())\n",
    "        \n",
    "    transfer_history = soup.find('div', {'class' : 'box'})\n",
    "    t_table = []\n",
    "    for i, (k, v) in enumerate(columns.items()):\n",
    "        t_items = []\n",
    "        for j in transfer_history.find_all('div', {'class': v}):\n",
    "            t_items.append(j.text.strip())\n",
    "        t_table.append(t_items)\n",
    "    current_league = soup.find('span', {'class': 'data-header__league'})\n",
    "    current_league = current_league.text.strip() if not pd.isnull(current_league) else np.nan\n",
    "        \n",
    "    df = pd.DataFrame(t_table).T[1:]\n",
    "    df.columns = columns.keys()\n",
    "    df = clean_transfer_history(df)\n",
    "    df['name'] = player_name\n",
    "    df['current_league'] = current_league\n",
    "    df = df[['name', 'from_date', 'to_date', 'old_team', 'new_team', 'market_value', 'transfer_fee', 'current_league']]\n",
    "    \n",
    "    return df\n",
    "\n",
    "def clean_transfer_history(df):\n",
    "    \"\"\"\n",
    "        Cleans the transfer history and only keeps relevant values.\n",
    "    \"\"\"\n",
    "    df.dropna(inplace=True)\n",
    "    df = pd.DataFrame([[np.nan] * len(df.columns)], columns=df.columns).append(df, ignore_index=True)\n",
    "    df['from_date'] = df['date'].shift(-1)\n",
    "    df.rename(columns={'date': 'to_date'}, inplace=True)\n",
    "    df.drop(columns=['season'], inplace=True)\n",
    "    df['old_team'][0] = df['new_team'][1]\n",
    "    df.replace('-', np.nan, inplace=True)\n",
    "    df.replace('free transfer', 0, inplace=True)\n",
    "    for c in ['market_value', 'transfer_fee']:\n",
    "        df[c] = df[c].replace('[\\€,]', '', regex=True)\n",
    "        nums = []\n",
    "        for i, r in df.iterrows():\n",
    "            if not pd.isnull(r[c]) and 'loan' not in str(r[c]).lower() and '?' not in str(r[c]):\n",
    "                '''try:\n",
    "                    num = float(\"\".join(re.findall(\"[\\d.]+\", str(r[c]))))\n",
    "                except:\n",
    "                    num = np.nan\n",
    "                unit = \"\".join(re.findall(\"[a-zA-Z]+\", str(r[c])))\n",
    "                if unit == \"m\":\n",
    "                    num *= 1000000\n",
    "                elif unit == \"k\":\n",
    "                    num *= 1000\n",
    "                '''\n",
    "                num = get_market_value(r[c])\n",
    "                nums.append(num)\n",
    "            else:\n",
    "                nums.append(np.nan)\n",
    "        df[c] = nums\n",
    "    \n",
    "    return df\n",
    "\n",
    "def clean_countries_players(csv):\n",
    "    \"\"\"\n",
    "        Reads the csv files for each country and cleans the file.\n",
    "    \"\"\"\n",
    "    df = pd.read_csv(f'countries_players/{csv}')\n",
    "    df.drop(columns=['Unnamed: 0', 'url'], inplace=True)\n",
    "    df.rename(columns={'tm-shirt-number': 'shirt_number', 'current-team': 'current_team', \n",
    "                       'market-value': 'current_market_value'}, inplace=True)\n",
    "    \n",
    "    return df"
   ]
  },
  {
   "cell_type": "code",
   "execution_count": 4,
   "metadata": {},
   "outputs": [],
   "source": [
    "for country_csv in os.listdir('countries_players/'):\n",
    "    country_df = clean_countries_players(country_csv)\n",
    "    dfs = []\n",
    "    for i, r in country_df.iterrows():\n",
    "        dfs.append(country_df.merge(get_transfer_history(r['name']), how='inner', on='name'))\n",
    "    master_df = pd.concat(dfs).reset_index(drop=True)\n",
    "    if not os.path.exists('country_player_history/'):\n",
    "        os.makedirs('country_player_history/')\n",
    "    master_df.to_csv(f\"country_player_history/{country_csv.split('_')[0]}.csv\", index=False, header=True)"
   ]
  },
  {
   "cell_type": "markdown",
   "metadata": {},
   "source": [
    "### 2. Draw the club-club network"
   ]
  },
  {
   "cell_type": "code",
   "execution_count": 5,
   "metadata": {},
   "outputs": [
    {
     "data": {
      "text/plain": [
       "(1054, 3135, 21750265000.0)"
      ]
     },
     "execution_count": 5,
     "metadata": {},
     "output_type": "execute_result"
    }
   ],
   "source": [
    "edges = {}\n",
    "\n",
    "for fn in os.listdir('country_player_history'):\n",
    "    if '.DS' not in fn:\n",
    "        df = pd.read_csv('country_player_history/' + fn, index_col = 0)\n",
    "\n",
    "        \n",
    "        names = sorted(list(set(df.name.to_list())))\n",
    "\n",
    "        for name in names:\n",
    "\n",
    "            df_name = df[df.name==name].dropna(subset = ['market_value'])\n",
    "            new_team = df_name.new_team.to_list()\n",
    "            old_team = df_name.old_team.to_list()\n",
    "            market_value = df_name.market_value.to_list()\n",
    "\n",
    "            for i in range(len(new_team)):\n",
    "                edge = new_team[i] +  '  <-  ' + old_team[i]\n",
    "                if edge not in edges:\n",
    "                    edges[edge] = market_value[i]\n",
    "                else:\n",
    "                    edges[edge] += market_value[i]        \n",
    "        \n",
    "  \n",
    "D = nx.DiGraph()\n",
    "ww = 0\n",
    "for uv, w in edges.items():\n",
    "    ww += w\n",
    "    u, v = uv.split('  <-  ')\n",
    "    D.add_edge(v, u, weight = w)\n",
    " \n",
    "nx.write_gexf(D, 'club_migration_network.gexf')\n",
    "D.number_of_nodes(), D.number_of_edges(), ww  "
   ]
  },
  {
   "cell_type": "code",
   "execution_count": null,
   "metadata": {},
   "outputs": [],
   "source": []
  },
  {
   "cell_type": "markdown",
   "metadata": {},
   "source": [
    "### 3. Draw the teammate network"
   ]
  },
  {
   "cell_type": "code",
   "execution_count": 6,
   "metadata": {},
   "outputs": [
    {
     "data": {
      "text/plain": [
       "830"
      ]
     },
     "execution_count": 6,
     "metadata": {},
     "output_type": "execute_result"
    }
   ],
   "source": [
    "def get_year(x):\n",
    "    try:\n",
    "        return min([int(a) for a in re.findall(r\"[0-9]{4}\", x)])\n",
    "    except:\n",
    "        return 2022\n",
    "\n",
    "\n",
    "dfs = []\n",
    "for fn in os.listdir('country_player_history'):\n",
    "    if '.DS' not in fn:\n",
    "        df = pd.read_csv('country_player_history/' + fn, index_col = 0)\n",
    "        dfs.append(df)\n",
    "        \n",
    "dfs = pd.concat(dfs)\n",
    "names = sorted(list(set(dfs.name.to_list())))\n",
    "len(names)"
   ]
  },
  {
   "cell_type": "code",
   "execution_count": 7,
   "metadata": {},
   "outputs": [
    {
     "name": "stdout",
     "output_type": "stream",
     "text": [
      "0\n",
      "50\n",
      "100\n",
      "150\n",
      "200\n",
      "250\n",
      "300\n",
      "350\n",
      "400\n",
      "450\n",
      "500\n",
      "550\n",
      "600\n",
      "650\n",
      "700\n",
      "750\n",
      "800\n"
     ]
    }
   ],
   "source": [
    "edges = {}\n",
    "\n",
    "for nnd, name1 in enumerate(names):\n",
    "    \n",
    "    if nnd % 50 == 0:\n",
    "        print(nnd)\n",
    "        \n",
    "    for name2 in names[nnd+1:]:\n",
    "\n",
    "        df_name1 = dfs[dfs.name==name1]\n",
    "        df_name2 = dfs[dfs.name==name2]\n",
    "\n",
    "        teams1 = set(df_name1.old_team)\n",
    "        teams2 = set(df_name2.old_team)\n",
    "\n",
    "        shared_teams = list(teams1.intersection(teams2))\n",
    "        \n",
    "        if len(shared_teams)>0:\n",
    "\n",
    "            for shared_team in shared_teams:\n",
    "                df_team1 = df_name1[df_name1.old_team==shared_team]\n",
    "                df_team2 = df_name2[df_name2.old_team==shared_team]\n",
    "                years1 = set(range(get_year(df_team1.from_date.to_list()[0]), get_year(df_team1.to_date.to_list()[0])+1))\n",
    "                years2 = set(range(get_year(df_team2.from_date.to_list()[0]), get_year(df_team2.to_date.to_list()[0])+1))\n",
    "\n",
    "                shared_years = years1.intersection(years2)\n",
    "                if len(shared_years)>0:\n",
    "                    edge = '\\t'.join(sorted([name1, name2]))\n",
    "                    if edge not in edges:\n",
    "                        edges[edge] = len(shared_years)\n",
    "                    edges[edge] += len(shared_years)    \n",
    "\n",
    "               \n",
    "      \n"
   ]
  },
  {
   "cell_type": "code",
   "execution_count": 7,
   "metadata": {},
   "outputs": [
    {
     "data": {
      "text/plain": [
       "(818, 6442)"
      ]
     },
     "execution_count": 7,
     "metadata": {},
     "output_type": "execute_result"
    }
   ],
   "source": [
    "G = nx.Graph()\n",
    "for e, w in edges.items():\n",
    "    e1, e2 = e.split('\\t')\n",
    "    G.add_edge(e1, e2, weight = w)\n",
    "    \n",
    "G.number_of_nodes(), G.number_of_edges()"
   ]
  },
  {
   "cell_type": "code",
   "execution_count": 9,
   "metadata": {},
   "outputs": [],
   "source": [
    "nx.write_gexf(G, 'player_teammate_network.gexf')"
   ]
  },
  {
   "cell_type": "code",
   "execution_count": 21,
   "metadata": {},
   "outputs": [
    {
     "data": {
      "text/html": [
       "<div>\n",
       "<style scoped>\n",
       "    .dataframe tbody tr th:only-of-type {\n",
       "        vertical-align: middle;\n",
       "    }\n",
       "\n",
       "    .dataframe tbody tr th {\n",
       "        vertical-align: top;\n",
       "    }\n",
       "\n",
       "    .dataframe thead th {\n",
       "        text-align: right;\n",
       "    }\n",
       "</style>\n",
       "<table border=\"1\" class=\"dataframe\">\n",
       "  <thead>\n",
       "    <tr style=\"text-align: right;\">\n",
       "      <th></th>\n",
       "      <th>current_market_value</th>\n",
       "      <th>log_market_value</th>\n",
       "    </tr>\n",
       "    <tr>\n",
       "      <th>Id</th>\n",
       "      <th></th>\n",
       "      <th></th>\n",
       "    </tr>\n",
       "  </thead>\n",
       "  <tbody>\n",
       "    <tr>\n",
       "      <th>Andries Noppert</th>\n",
       "      <td>2000000.0</td>\n",
       "      <td>14.508658</td>\n",
       "    </tr>\n",
       "    <tr>\n",
       "      <th>Matthijs de Ligt</th>\n",
       "      <td>70000000.0</td>\n",
       "      <td>18.064006</td>\n",
       "    </tr>\n",
       "    <tr>\n",
       "      <th>Jurrien Timber</th>\n",
       "      <td>45000000.0</td>\n",
       "      <td>17.622173</td>\n",
       "    </tr>\n",
       "    <tr>\n",
       "      <th>Stefan de Vrij</th>\n",
       "      <td>15000000.0</td>\n",
       "      <td>16.523561</td>\n",
       "    </tr>\n",
       "    <tr>\n",
       "      <th>Daley Blind</th>\n",
       "      <td>6000000.0</td>\n",
       "      <td>15.607270</td>\n",
       "    </tr>\n",
       "    <tr>\n",
       "      <th>...</th>\n",
       "      <td>...</td>\n",
       "      <td>...</td>\n",
       "    </tr>\n",
       "    <tr>\n",
       "      <th>Mohamed Ali Ben Romdhane</th>\n",
       "      <td>2700000.0</td>\n",
       "      <td>14.808763</td>\n",
       "    </tr>\n",
       "    <tr>\n",
       "      <th>Ghaylen Chaaleli</th>\n",
       "      <td>1200000.0</td>\n",
       "      <td>13.997833</td>\n",
       "    </tr>\n",
       "    <tr>\n",
       "      <th>Naïm Sliti</th>\n",
       "      <td>6000000.0</td>\n",
       "      <td>15.607270</td>\n",
       "    </tr>\n",
       "    <tr>\n",
       "      <th>Issam Jebali</th>\n",
       "      <td>500000.0</td>\n",
       "      <td>13.122365</td>\n",
       "    </tr>\n",
       "    <tr>\n",
       "      <th>Seifeddine Jaziri</th>\n",
       "      <td>1500000.0</td>\n",
       "      <td>14.220976</td>\n",
       "    </tr>\n",
       "  </tbody>\n",
       "</table>\n",
       "<p>830 rows × 2 columns</p>\n",
       "</div>"
      ],
      "text/plain": [
       "                          current_market_value  log_market_value\n",
       "Id                                                              \n",
       "Andries Noppert                      2000000.0         14.508658\n",
       "Matthijs de Ligt                    70000000.0         18.064006\n",
       "Jurrien Timber                      45000000.0         17.622173\n",
       "Stefan de Vrij                      15000000.0         16.523561\n",
       "Daley Blind                          6000000.0         15.607270\n",
       "...                                        ...               ...\n",
       "Mohamed Ali Ben Romdhane             2700000.0         14.808763\n",
       "Ghaylen Chaaleli                     1200000.0         13.997833\n",
       "Naïm Sliti                           6000000.0         15.607270\n",
       "Issam Jebali                          500000.0         13.122365\n",
       "Seifeddine Jaziri                    1500000.0         14.220976\n",
       "\n",
       "[830 rows x 2 columns]"
      ]
     },
     "execution_count": 21,
     "metadata": {},
     "output_type": "execute_result"
    }
   ],
   "source": [
    "df_value = dfs.drop_duplicates(subset = ['name']).set_index('name')[['current_market_value']]\n",
    "df_value['current_market_value'] = df_value['current_market_value'].apply(get_market_value)\n",
    "df_value['log_market_value'] = [math.log(x+1) for x in df_value['current_market_value']]\n",
    "df_value.index.name = 'Id'\n",
    "df_value.to_csv('node_values.csv')\n",
    "df_value"
   ]
  },
  {
   "cell_type": "code",
   "execution_count": null,
   "metadata": {},
   "outputs": [],
   "source": []
  }
 ],
 "metadata": {
  "kernelspec": {
   "display_name": "Python 3 (ipykernel)",
   "language": "python",
   "name": "python3"
  },
  "language_info": {
   "codemirror_mode": {
    "name": "ipython",
    "version": 3
   },
   "file_extension": ".py",
   "mimetype": "text/x-python",
   "name": "python",
   "nbconvert_exporter": "python",
   "pygments_lexer": "ipython3",
   "version": "3.11.7"
  }
 },
 "nbformat": 4,
 "nbformat_minor": 4
}
